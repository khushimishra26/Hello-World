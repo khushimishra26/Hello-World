{
  "nbformat": 4,
  "nbformat_minor": 0,
  "metadata": {
    "colab": {
      "name": "Khushibiometric1.ipynb",
      "provenance": [],
      "authorship_tag": "ABX9TyPipLtoHgBBWEaRqvlpyxVr",
      "include_colab_link": true
    },
    "kernelspec": {
      "name": "python3",
      "display_name": "Python 3"
    }
  },
  "cells": [
    {
      "cell_type": "markdown",
      "metadata": {
        "id": "view-in-github",
        "colab_type": "text"
      },
      "source": [
        "<a href=\"https://colab.research.google.com/github/khushimishra26/Hello-World/blob/master/Khushibiometric1.ipynb\" target=\"_parent\"><img src=\"https://colab.research.google.com/assets/colab-badge.svg\" alt=\"Open In Colab\"/></a>"
      ]
    },
    {
      "cell_type": "code",
      "metadata": {
        "id": "TuvlQHJP5N0b",
        "colab_type": "code",
        "colab": {
          "base_uri": "https://localhost:8080/",
          "height": 105
        },
        "outputId": "df479bfe-27c8-40c4-a1b7-cc0b9ca0901e"
      },
      "source": [
        "import matplotlib.pyplot as plt\n",
        "import numpy as np\n",
        "import pandas as pd\n",
        "import csv \n",
        "from sklearn.preprocessing import Imputer\n",
        "imputer = Imputer(missing_values = np.nan, strategy = 'mean', axis = 0)\n",
        "row_list=[[\"Animal\", \"Age\", \"Worth\", \"Friendly\"],\n",
        "             [0,\"Cat\",\"4.0\",\"72000.0\",\"No\"],\n",
        "             [1,\"Dog\",\"17.0\",\"48000.0\",\"Yes\"],\n",
        "             [2,\"Moose\",\"6.0\",\"54000.0\",\"No\"],\n",
        "             [3,\"Dog\",\"8.0\",\"61000.0\",\"No\"],\n",
        "             [4,\"Moose\",\"4.0\",\"NaN\",\"Yes\"]]\n",
        "with open('my_data.csv', 'w', newline='') as file:\n",
        "    writer = csv.writer(file)\n",
        "    writer.writerows(row_list)\n",
        "dataset=pd.read_csv('my_data.csv')\n",
        "x = dataset.iloc[:, :-1].values\n",
        "y = dataset.iloc[:, 3].values\n",
        "imputer = imputer.fit(x[:, 1:3])\n",
        "x[:, 1:3] = imputer.transform(x[:, 1:3])\n",
        "x[:, 1:3]"
      ],
      "execution_count": 12,
      "outputs": [
        {
          "output_type": "execute_result",
          "data": {
            "text/plain": [
              "array([[4.0, 72000.0],\n",
              "       [17.0, 48000.0],\n",
              "       [6.0, 54000.0],\n",
              "       [8.0, 61000.0],\n",
              "       [4.0, 58750.0]], dtype=object)"
            ]
          },
          "metadata": {
            "tags": []
          },
          "execution_count": 12
        }
      ]
    }
  ]
}